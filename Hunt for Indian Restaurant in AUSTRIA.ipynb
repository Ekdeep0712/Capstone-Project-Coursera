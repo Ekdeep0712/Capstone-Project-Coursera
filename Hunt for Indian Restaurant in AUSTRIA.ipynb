{
 "cells": [
  {
   "cell_type": "markdown",
   "metadata": {},
   "source": [
    "# Hunt for Indian Restaurants in AUSTRIA"
   ]
  },
  {
   "cell_type": "markdown",
   "metadata": {},
   "source": [
    "### Import all the Libraries needed for this notebook."
   ]
  },
  {
   "cell_type": "code",
   "execution_count": 1,
   "metadata": {},
   "outputs": [
    {
     "name": "stdout",
     "output_type": "stream",
     "text": [
      "Fetching package metadata .............\n",
      "Solving package specifications: .\n",
      "\n",
      "# All requested packages already installed.\n",
      "# packages in environment at /opt/conda/envs/DSX-Python35:\n",
      "#\n",
      "folium                    0.5.0                      py_0    conda-forge\n",
      "Libraries imported.\n"
     ]
    }
   ],
   "source": [
    "import numpy as np # library to handle data in a vectorized manner\n",
    "import pandas as pd # library for data analsysis\n",
    "pd.set_option('display.max_columns', None)\n",
    "pd.set_option('display.max_rows', None)\n",
    "import json # library to handle JSON files\n",
    "#!conda install -c conda-forge geopy --yes # uncomment this line if you haven't completed the Foursquare API lab\n",
    "from geopy.geocoders import Nominatim # convert an address into latitude and longitude values\n",
    "import requests # library to handle requests\n",
    "from pandas.io.json import json_normalize # tranform JSON file into a pandas dataframe\n",
    "# Matplotlib and associated plotting modules\n",
    "import matplotlib.cm as cm\n",
    "import matplotlib.colors as colors\n",
    "# import k-means from clustering stage\n",
    "from sklearn.cluster import KMeans\n",
    "!conda install -c conda-forge folium=0.5.0 --yes # uncomment this line if you haven't completed the Foursquare API lab\n",
    "import folium # map rendering library\n",
    "print('Libraries imported.')"
   ]
  },
  {
   "cell_type": "markdown",
   "metadata": {},
   "source": [
    "### We copied the URL for cities in Austria to our GitHub repository. Lets download it from there."
   ]
  },
  {
   "cell_type": "code",
   "execution_count": 2,
   "metadata": {},
   "outputs": [
    {
     "name": "stdout",
     "output_type": "stream",
     "text": [
      "URL downloaded successfully\n"
     ]
    }
   ],
   "source": [
    "#Download the URL from wikipedia page\n",
    "url  = \"https://github.com/Ekdeep0712/Capstone-Project-Coursera/blob/master/at.csv\"\n",
    "page = requests.get(url)\n",
    "if page.status_code == 200:\n",
    "    print('URL downloaded successfully')\n",
    "else:\n",
    "    print('ERROR in Downloading. Error code: {}'.format(page.status_code))\n",
    "\n"
   ]
  },
  {
   "cell_type": "markdown",
   "metadata": {},
   "source": [
    "### Lets check the HTML dataset and assign it to name \"df_at\"."
   ]
  },
  {
   "cell_type": "code",
   "execution_count": 3,
   "metadata": {},
   "outputs": [
    {
     "data": {
      "text/html": [
       "<div>\n",
       "<style scoped>\n",
       "    .dataframe tbody tr th:only-of-type {\n",
       "        vertical-align: middle;\n",
       "    }\n",
       "\n",
       "    .dataframe tbody tr th {\n",
       "        vertical-align: top;\n",
       "    }\n",
       "\n",
       "    .dataframe thead th {\n",
       "        text-align: right;\n",
       "    }\n",
       "</style>\n",
       "<table border=\"1\" class=\"dataframe\">\n",
       "  <thead>\n",
       "    <tr style=\"text-align: right;\">\n",
       "      <th></th>\n",
       "      <th>Unnamed: 0</th>\n",
       "      <th>city</th>\n",
       "      <th>lat</th>\n",
       "      <th>lng</th>\n",
       "      <th>country</th>\n",
       "      <th>iso2</th>\n",
       "      <th>admin</th>\n",
       "      <th>capital</th>\n",
       "      <th>population</th>\n",
       "      <th>population_proper</th>\n",
       "    </tr>\n",
       "  </thead>\n",
       "  <tbody>\n",
       "    <tr>\n",
       "      <th>0</th>\n",
       "      <td>NaN</td>\n",
       "      <td>Vienna</td>\n",
       "      <td>48.200000</td>\n",
       "      <td>16.366667</td>\n",
       "      <td>Austria</td>\n",
       "      <td>AT</td>\n",
       "      <td>Wien</td>\n",
       "      <td>primary</td>\n",
       "      <td>2400000.0</td>\n",
       "      <td>1731000.0</td>\n",
       "    </tr>\n",
       "    <tr>\n",
       "      <th>1</th>\n",
       "      <td>NaN</td>\n",
       "      <td>Linz</td>\n",
       "      <td>48.300000</td>\n",
       "      <td>14.300000</td>\n",
       "      <td>Austria</td>\n",
       "      <td>AT</td>\n",
       "      <td>Oberösterreich</td>\n",
       "      <td>admin</td>\n",
       "      <td>349161.0</td>\n",
       "      <td>181162.0</td>\n",
       "    </tr>\n",
       "    <tr>\n",
       "      <th>2</th>\n",
       "      <td>NaN</td>\n",
       "      <td>Graz</td>\n",
       "      <td>47.066667</td>\n",
       "      <td>15.450000</td>\n",
       "      <td>Austria</td>\n",
       "      <td>AT</td>\n",
       "      <td>Steiermark</td>\n",
       "      <td>admin</td>\n",
       "      <td>263234.0</td>\n",
       "      <td>222326.0</td>\n",
       "    </tr>\n",
       "    <tr>\n",
       "      <th>3</th>\n",
       "      <td>NaN</td>\n",
       "      <td>Salzburg</td>\n",
       "      <td>47.800000</td>\n",
       "      <td>13.033333</td>\n",
       "      <td>Austria</td>\n",
       "      <td>AT</td>\n",
       "      <td>Salzburg</td>\n",
       "      <td>admin</td>\n",
       "      <td>206279.0</td>\n",
       "      <td>150269.0</td>\n",
       "    </tr>\n",
       "    <tr>\n",
       "      <th>4</th>\n",
       "      <td>NaN</td>\n",
       "      <td>Innsbruck</td>\n",
       "      <td>47.266667</td>\n",
       "      <td>11.400000</td>\n",
       "      <td>Austria</td>\n",
       "      <td>AT</td>\n",
       "      <td>Tirol</td>\n",
       "      <td>admin</td>\n",
       "      <td>155214.0</td>\n",
       "      <td>112467.0</td>\n",
       "    </tr>\n",
       "  </tbody>\n",
       "</table>\n",
       "</div>"
      ],
      "text/plain": [
       "   Unnamed: 0       city        lat        lng  country iso2           admin  \\\n",
       "0         NaN     Vienna  48.200000  16.366667  Austria   AT            Wien   \n",
       "1         NaN       Linz  48.300000  14.300000  Austria   AT  Oberösterreich   \n",
       "2         NaN       Graz  47.066667  15.450000  Austria   AT      Steiermark   \n",
       "3         NaN   Salzburg  47.800000  13.033333  Austria   AT        Salzburg   \n",
       "4         NaN  Innsbruck  47.266667  11.400000  Austria   AT           Tirol   \n",
       "\n",
       "   capital  population  population_proper  \n",
       "0  primary   2400000.0          1731000.0  \n",
       "1    admin    349161.0           181162.0  \n",
       "2    admin    263234.0           222326.0  \n",
       "3    admin    206279.0           150269.0  \n",
       "4    admin    155214.0           112467.0  "
      ]
     },
     "execution_count": 3,
     "metadata": {},
     "output_type": "execute_result"
    }
   ],
   "source": [
    "df_at = pd.read_html(url, header=0, na_values = ['Not assigned'])[0]\n",
    "df_at.head()\n",
    "\n",
    "\n",
    "\n",
    "                        \n",
    "\n",
    "\n",
    "\n"
   ]
  },
  {
   "cell_type": "markdown",
   "metadata": {},
   "source": [
    "### Rename the Column names, which we want for the future."
   ]
  },
  {
   "cell_type": "code",
   "execution_count": 4,
   "metadata": {},
   "outputs": [
    {
     "data": {
      "text/html": [
       "<div>\n",
       "<style scoped>\n",
       "    .dataframe tbody tr th:only-of-type {\n",
       "        vertical-align: middle;\n",
       "    }\n",
       "\n",
       "    .dataframe tbody tr th {\n",
       "        vertical-align: top;\n",
       "    }\n",
       "\n",
       "    .dataframe thead th {\n",
       "        text-align: right;\n",
       "    }\n",
       "</style>\n",
       "<table border=\"1\" class=\"dataframe\">\n",
       "  <thead>\n",
       "    <tr style=\"text-align: right;\">\n",
       "      <th></th>\n",
       "      <th>Unnamed: 0</th>\n",
       "      <th>City</th>\n",
       "      <th>Latitude</th>\n",
       "      <th>Longitude</th>\n",
       "      <th>country</th>\n",
       "      <th>iso2</th>\n",
       "      <th>admin</th>\n",
       "      <th>capital</th>\n",
       "      <th>population</th>\n",
       "      <th>population_proper</th>\n",
       "    </tr>\n",
       "  </thead>\n",
       "  <tbody>\n",
       "    <tr>\n",
       "      <th>0</th>\n",
       "      <td>NaN</td>\n",
       "      <td>Vienna</td>\n",
       "      <td>48.200000</td>\n",
       "      <td>16.366667</td>\n",
       "      <td>Austria</td>\n",
       "      <td>AT</td>\n",
       "      <td>Wien</td>\n",
       "      <td>primary</td>\n",
       "      <td>2400000.0</td>\n",
       "      <td>1731000.0</td>\n",
       "    </tr>\n",
       "    <tr>\n",
       "      <th>1</th>\n",
       "      <td>NaN</td>\n",
       "      <td>Linz</td>\n",
       "      <td>48.300000</td>\n",
       "      <td>14.300000</td>\n",
       "      <td>Austria</td>\n",
       "      <td>AT</td>\n",
       "      <td>Oberösterreich</td>\n",
       "      <td>admin</td>\n",
       "      <td>349161.0</td>\n",
       "      <td>181162.0</td>\n",
       "    </tr>\n",
       "    <tr>\n",
       "      <th>2</th>\n",
       "      <td>NaN</td>\n",
       "      <td>Graz</td>\n",
       "      <td>47.066667</td>\n",
       "      <td>15.450000</td>\n",
       "      <td>Austria</td>\n",
       "      <td>AT</td>\n",
       "      <td>Steiermark</td>\n",
       "      <td>admin</td>\n",
       "      <td>263234.0</td>\n",
       "      <td>222326.0</td>\n",
       "    </tr>\n",
       "    <tr>\n",
       "      <th>3</th>\n",
       "      <td>NaN</td>\n",
       "      <td>Salzburg</td>\n",
       "      <td>47.800000</td>\n",
       "      <td>13.033333</td>\n",
       "      <td>Austria</td>\n",
       "      <td>AT</td>\n",
       "      <td>Salzburg</td>\n",
       "      <td>admin</td>\n",
       "      <td>206279.0</td>\n",
       "      <td>150269.0</td>\n",
       "    </tr>\n",
       "    <tr>\n",
       "      <th>4</th>\n",
       "      <td>NaN</td>\n",
       "      <td>Innsbruck</td>\n",
       "      <td>47.266667</td>\n",
       "      <td>11.400000</td>\n",
       "      <td>Austria</td>\n",
       "      <td>AT</td>\n",
       "      <td>Tirol</td>\n",
       "      <td>admin</td>\n",
       "      <td>155214.0</td>\n",
       "      <td>112467.0</td>\n",
       "    </tr>\n",
       "  </tbody>\n",
       "</table>\n",
       "</div>"
      ],
      "text/plain": [
       "   Unnamed: 0       City   Latitude  Longitude  country iso2           admin  \\\n",
       "0         NaN     Vienna  48.200000  16.366667  Austria   AT            Wien   \n",
       "1         NaN       Linz  48.300000  14.300000  Austria   AT  Oberösterreich   \n",
       "2         NaN       Graz  47.066667  15.450000  Austria   AT      Steiermark   \n",
       "3         NaN   Salzburg  47.800000  13.033333  Austria   AT        Salzburg   \n",
       "4         NaN  Innsbruck  47.266667  11.400000  Austria   AT           Tirol   \n",
       "\n",
       "   capital  population  population_proper  \n",
       "0  primary   2400000.0          1731000.0  \n",
       "1    admin    349161.0           181162.0  \n",
       "2    admin    263234.0           222326.0  \n",
       "3    admin    206279.0           150269.0  \n",
       "4    admin    155214.0           112467.0  "
      ]
     },
     "execution_count": 4,
     "metadata": {},
     "output_type": "execute_result"
    }
   ],
   "source": [
    "df_at = df_at.rename(columns={'city': 'City', 'lat': 'Latitude' , 'lng': 'Longitude'})\n",
    "df_at.head()"
   ]
  },
  {
   "cell_type": "markdown",
   "metadata": {},
   "source": [
    "### Now, lets drop the columns which we don't need and check our Dataframe again ."
   ]
  },
  {
   "cell_type": "code",
   "execution_count": 5,
   "metadata": {
    "scrolled": true
   },
   "outputs": [
    {
     "data": {
      "text/html": [
       "<div>\n",
       "<style scoped>\n",
       "    .dataframe tbody tr th:only-of-type {\n",
       "        vertical-align: middle;\n",
       "    }\n",
       "\n",
       "    .dataframe tbody tr th {\n",
       "        vertical-align: top;\n",
       "    }\n",
       "\n",
       "    .dataframe thead th {\n",
       "        text-align: right;\n",
       "    }\n",
       "</style>\n",
       "<table border=\"1\" class=\"dataframe\">\n",
       "  <thead>\n",
       "    <tr style=\"text-align: right;\">\n",
       "      <th></th>\n",
       "      <th>City</th>\n",
       "      <th>Latitude</th>\n",
       "      <th>Longitude</th>\n",
       "      <th>country</th>\n",
       "    </tr>\n",
       "  </thead>\n",
       "  <tbody>\n",
       "    <tr>\n",
       "      <th>0</th>\n",
       "      <td>Vienna</td>\n",
       "      <td>48.200000</td>\n",
       "      <td>16.366667</td>\n",
       "      <td>Austria</td>\n",
       "    </tr>\n",
       "    <tr>\n",
       "      <th>1</th>\n",
       "      <td>Linz</td>\n",
       "      <td>48.300000</td>\n",
       "      <td>14.300000</td>\n",
       "      <td>Austria</td>\n",
       "    </tr>\n",
       "    <tr>\n",
       "      <th>2</th>\n",
       "      <td>Graz</td>\n",
       "      <td>47.066667</td>\n",
       "      <td>15.450000</td>\n",
       "      <td>Austria</td>\n",
       "    </tr>\n",
       "    <tr>\n",
       "      <th>3</th>\n",
       "      <td>Salzburg</td>\n",
       "      <td>47.800000</td>\n",
       "      <td>13.033333</td>\n",
       "      <td>Austria</td>\n",
       "    </tr>\n",
       "    <tr>\n",
       "      <th>4</th>\n",
       "      <td>Innsbruck</td>\n",
       "      <td>47.266667</td>\n",
       "      <td>11.400000</td>\n",
       "      <td>Austria</td>\n",
       "    </tr>\n",
       "  </tbody>\n",
       "</table>\n",
       "</div>"
      ],
      "text/plain": [
       "        City   Latitude  Longitude  country\n",
       "0     Vienna  48.200000  16.366667  Austria\n",
       "1       Linz  48.300000  14.300000  Austria\n",
       "2       Graz  47.066667  15.450000  Austria\n",
       "3   Salzburg  47.800000  13.033333  Austria\n",
       "4  Innsbruck  47.266667  11.400000  Austria"
      ]
     },
     "execution_count": 5,
     "metadata": {},
     "output_type": "execute_result"
    }
   ],
   "source": [
    "df_at = df_at.drop([\"Unnamed: 0\", \"iso2\", \"admin\", \"capital\", \"population\", \"population_proper\"], axis=1) \n",
    "df_at.head()"
   ]
  },
  {
   "cell_type": "markdown",
   "metadata": {},
   "source": [
    "### Lets check the total number of \"Cities\" in our Dataframe"
   ]
  },
  {
   "cell_type": "code",
   "execution_count": 6,
   "metadata": {},
   "outputs": [
    {
     "name": "stdout",
     "output_type": "stream",
     "text": [
      "The dataframe has 80 cities.\n"
     ]
    }
   ],
   "source": [
    "print('The dataframe has {} cities.'.format(\n",
    "        len(df_at['City'].unique()),\n",
    "        df_at.shape[0]\n",
    "    )\n",
    ")"
   ]
  },
  {
   "cell_type": "markdown",
   "metadata": {},
   "source": [
    "### We will see the Coordinates of Austria by taking the average Lat. & Lon. from our dataset."
   ]
  },
  {
   "cell_type": "code",
   "execution_count": 7,
   "metadata": {},
   "outputs": [
    {
     "name": "stdout",
     "output_type": "stream",
     "text": [
      "The geographical coord. of Austria are 47.680697825000024, 14.489297787500004\n"
     ]
    }
   ],
   "source": [
    "latitude = df_at['Latitude'].mean()\n",
    "longitude = df_at['Longitude'].mean()\n",
    "print('The geographical coord. of Austria are {}, {}'.format(latitude, longitude))"
   ]
  },
  {
   "cell_type": "markdown",
   "metadata": {},
   "source": [
    "### Now, lets create a map of Austria using coordinates"
   ]
  },
  {
   "cell_type": "code",
   "execution_count": 8,
   "metadata": {},
   "outputs": [
    {
     "data": {
      "text/html": [
       "<div style=\"width:100%;\"><div style=\"position:relative;width:100%;height:0;padding-bottom:60%;\"><iframe src=\"data:text/html;charset=utf-8;base64,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\" style=\"position:absolute;width:100%;height:100%;left:0;top:0;border:none !important;\" allowfullscreen webkitallowfullscreen mozallowfullscreen></iframe></div></div>"
      ],
      "text/plain": [
       "<folium.folium.Map at 0x7ff1fd63f668>"
      ]
     },
     "execution_count": 8,
     "metadata": {},
     "output_type": "execute_result"
    }
   ],
   "source": [
    "# create map of New York using latitude and longitude values\n",
    "map_austria = folium.Map(location=[latitude, longitude], zoom_start=10)\n",
    "\n",
    "# add markers to map\n",
    "for lat, lng, country, City in zip(df_at['Latitude'], df_at['Longitude'], df_at['country'], df_at['City']):\n",
    "    label = '{}, {}'.format(country, City)\n",
    "    label = folium.Popup(label, parse_html=True)\n",
    "    folium.CircleMarker(\n",
    "        [lat, lng],\n",
    "        radius=5,\n",
    "        popup=label,\n",
    "        color='blue',\n",
    "        fill=True,\n",
    "        fill_color='#3186cc',\n",
    "        fill_opacity=0.7,\n",
    "        parse_html=False).add_to(map_austria) \n",
    "    \n",
    "map_austria"
   ]
  },
  {
   "cell_type": "markdown",
   "metadata": {},
   "source": [
    "### Next, we are going to start utilizing the Foursquare API to explore the Cities and segment them"
   ]
  },
  {
   "cell_type": "code",
   "execution_count": 9,
   "metadata": {},
   "outputs": [
    {
     "name": "stdout",
     "output_type": "stream",
     "text": [
      "Your credentails:\n",
      "CLIENT_ID: 0PMSDWY3ZHV4JTFZFTN005OP2NLXDLN5RO30HXJI3EZZ23YC\n",
      "CLIENT_SECRET:P2NX4BJ2OY2VX03WDBVY5HDK5CY1Z30EPG2IIRBQDPCSEXFX\n"
     ]
    }
   ],
   "source": [
    "CLIENT_ID = '0PMSDWY3ZHV4JTFZFTN005OP2NLXDLN5RO30HXJI3EZZ23YC' # your Foursquare ID\n",
    "CLIENT_SECRET = 'P2NX4BJ2OY2VX03WDBVY5HDK5CY1Z30EPG2IIRBQDPCSEXFX' # your Foursquare Secret\n",
    "VERSION = '20180605' # Foursquare API version\n",
    "\n",
    "print('Your credentails:')\n",
    "print('CLIENT_ID: ' + CLIENT_ID)\n",
    "print('CLIENT_SECRET:' + CLIENT_SECRET)"
   ]
  },
  {
   "cell_type": "markdown",
   "metadata": {},
   "source": [
    "### Now, let's get the top 50 venues that are in Austria within a radius of 5000 meters."
   ]
  },
  {
   "cell_type": "code",
   "execution_count": 10,
   "metadata": {},
   "outputs": [
    {
     "data": {
      "text/plain": [
       "'https://api.foursquare.com/v2/venues/explore?&client_id=0PMSDWY3ZHV4JTFZFTN005OP2NLXDLN5RO30HXJI3EZZ23YC&client_secret=P2NX4BJ2OY2VX03WDBVY5HDK5CY1Z30EPG2IIRBQDPCSEXFX&v=20180605&ll=47.680697825000024,14.489297787500004&radius=5000&limit=50'"
      ]
     },
     "execution_count": 10,
     "metadata": {},
     "output_type": "execute_result"
    }
   ],
   "source": [
    "LIMIT = 50 # limit of number of venues returned by Foursquare API\n",
    "radius = 5000\n",
    "\n",
    "# create URL\n",
    "url = 'https://api.foursquare.com/v2/venues/explore?&client_id={}&client_secret={}&v={}&ll={},{}&radius={}&limit={}'.format(\n",
    "    CLIENT_ID, \n",
    "    CLIENT_SECRET, \n",
    "    VERSION, \n",
    "    latitude, \n",
    "    longitude, \n",
    "    radius, \n",
    "    LIMIT)\n",
    "url # display URL"
   ]
  },
  {
   "cell_type": "markdown",
   "metadata": {},
   "source": [
    "### And, we will use the GET function to see our results."
   ]
  },
  {
   "cell_type": "code",
   "execution_count": 11,
   "metadata": {},
   "outputs": [
    {
     "data": {
      "text/plain": [
       "{'meta': {'code': 200, 'requestId': '5ca8ce8a351e3d25e2c9b3a5'},\n",
       " 'response': {'groups': [{'items': [{'reasons': {'count': 0,\n",
       "       'items': [{'reasonName': 'globalInteractionReason',\n",
       "         'summary': 'This spot is popular',\n",
       "         'type': 'general'}]},\n",
       "      'referralId': 'e-0-4e8874f9e5fa8d83e21fbf6d-0',\n",
       "      'venue': {'categories': [{'icon': {'prefix': 'https://ss3.4sqi.net/img/categories_v2/parks_outdoors/hikingtrail_',\n",
       "          'suffix': '.png'},\n",
       "         'id': '4bf58dd8d48988d159941735',\n",
       "         'name': 'Trail',\n",
       "         'pluralName': 'Trails',\n",
       "         'primary': True,\n",
       "         'shortName': 'Trail'}],\n",
       "       'id': '4e8874f9e5fa8d83e21fbf6d',\n",
       "       'location': {'cc': 'AT',\n",
       "        'city': 'Rosenau am Hengstpaß',\n",
       "        'country': 'Österreich',\n",
       "        'distance': 1873,\n",
       "        'formattedAddress': ['Rosenau am Hengstpaß', 'Österreich'],\n",
       "        'labeledLatLngs': [{'label': 'display',\n",
       "          'lat': 47.69108653884442,\n",
       "          'lng': 14.469629514078797}],\n",
       "        'lat': 47.69108653884442,\n",
       "        'lng': 14.469629514078797,\n",
       "        'state': 'Oberösterreich'},\n",
       "       'name': 'Menauer Alm',\n",
       "       'photos': {'count': 0, 'groups': []}}},\n",
       "     {'reasons': {'count': 0,\n",
       "       'items': [{'reasonName': 'globalInteractionReason',\n",
       "         'summary': 'This spot is popular',\n",
       "         'type': 'general'}]},\n",
       "      'referralId': 'e-0-4d298e8a068e8cfae360d14c-1',\n",
       "      'venue': {'categories': [{'icon': {'prefix': 'https://ss3.4sqi.net/img/categories_v2/parks_outdoors/ski_snowboard_',\n",
       "          'suffix': '.png'},\n",
       "         'id': '4bf58dd8d48988d1e9941735',\n",
       "         'name': 'Ski Area',\n",
       "         'pluralName': 'Ski Areas',\n",
       "         'primary': True,\n",
       "         'shortName': 'Ski Area'}],\n",
       "       'id': '4d298e8a068e8cfae360d14c',\n",
       "       'location': {'cc': 'AT',\n",
       "        'country': 'Österreich',\n",
       "        'distance': 2100,\n",
       "        'formattedAddress': ['Österreich'],\n",
       "        'labeledLatLngs': [{'label': 'display',\n",
       "          'lat': 47.699061,\n",
       "          'lng': 14.482833}],\n",
       "        'lat': 47.699061,\n",
       "        'lng': 14.482833},\n",
       "       'name': 'Schwarzkogel',\n",
       "       'photos': {'count': 0, 'groups': []}}},\n",
       "     {'reasons': {'count': 0,\n",
       "       'items': [{'reasonName': 'globalInteractionReason',\n",
       "         'summary': 'This spot is popular',\n",
       "         'type': 'general'}]},\n",
       "      'referralId': 'e-0-58a84b1f102f472e5f1aff35-2',\n",
       "      'venue': {'categories': [{'icon': {'prefix': 'https://ss3.4sqi.net/img/categories_v2/parks_outdoors/mountain_',\n",
       "          'suffix': '.png'},\n",
       "         'id': '4eb1d4d54b900d56c88a45fc',\n",
       "         'name': 'Mountain',\n",
       "         'pluralName': 'Mountains',\n",
       "         'primary': True,\n",
       "         'shortName': 'Mountain'}],\n",
       "       'id': '58a84b1f102f472e5f1aff35',\n",
       "       'location': {'cc': 'AT',\n",
       "        'country': 'Österreich',\n",
       "        'distance': 2867,\n",
       "        'formattedAddress': ['Österreich'],\n",
       "        'labeledLatLngs': [{'label': 'display',\n",
       "          'lat': 47.686908,\n",
       "          'lng': 14.452157}],\n",
       "        'lat': 47.686908,\n",
       "        'lng': 14.452157},\n",
       "       'name': 'Großer Mitterberg',\n",
       "       'photos': {'count': 0, 'groups': []}}},\n",
       "     {'reasons': {'count': 0,\n",
       "       'items': [{'reasonName': 'globalInteractionReason',\n",
       "         'summary': 'This spot is popular',\n",
       "         'type': 'general'}]},\n",
       "      'referralId': 'e-0-4e412d8ad4c0b124a8eac8ed-3',\n",
       "      'venue': {'categories': [{'icon': {'prefix': 'https://ss3.4sqi.net/img/categories_v2/food/default_',\n",
       "          'suffix': '.png'},\n",
       "         'id': '4d4b7105d754a06374d81259',\n",
       "         'name': 'Food',\n",
       "         'pluralName': 'Food',\n",
       "         'primary': True,\n",
       "         'shortName': 'Food'}],\n",
       "       'id': '4e412d8ad4c0b124a8eac8ed',\n",
       "       'location': {'cc': 'AT',\n",
       "        'country': 'Österreich',\n",
       "        'distance': 3518,\n",
       "        'formattedAddress': ['Österreich'],\n",
       "        'labeledLatLngs': [{'label': 'display',\n",
       "          'lat': 47.70401106187666,\n",
       "          'lng': 14.457584023475647}],\n",
       "        'lat': 47.70401106187666,\n",
       "        'lng': 14.457584023475647},\n",
       "       'name': 'Zicker-Reith',\n",
       "       'photos': {'count': 0, 'groups': []}}}],\n",
       "    'name': 'recommended',\n",
       "    'type': 'Recommended Places'}],\n",
       "  'headerFullLocation': 'Current map view',\n",
       "  'headerLocation': 'Current map view',\n",
       "  'headerLocationGranularity': 'unknown',\n",
       "  'suggestedBounds': {'ne': {'lat': 47.72569787000007,\n",
       "    'lng': 14.55601185767415},\n",
       "   'sw': {'lat': 47.63569777999998, 'lng': 14.422583717325857}},\n",
       "  'totalResults': 4}}"
      ]
     },
     "execution_count": 11,
     "metadata": {},
     "output_type": "execute_result"
    }
   ],
   "source": [
    "results = requests.get(url).json()\n",
    "results"
   ]
  },
  {
   "cell_type": "markdown",
   "metadata": {},
   "source": [
    "### From the Foursquare lab in the previous module, we know that all the information is in the items key. Before we proceed, let's borrow the get_category_type function from the Foursquare lab."
   ]
  },
  {
   "cell_type": "code",
   "execution_count": 12,
   "metadata": {},
   "outputs": [],
   "source": [
    "# function that extracts the category of the venue\n",
    "def get_category_type(row):\n",
    "    try:\n",
    "        categories_list = row['categories']\n",
    "    except:\n",
    "        categories_list = row['venue.categories']\n",
    "        \n",
    "    if len(categories_list) == 0:\n",
    "        return None\n",
    "     \n",
    "    else:\n",
    "        return categories_list[0]['name']"
   ]
  },
  {
   "cell_type": "markdown",
   "metadata": {},
   "source": [
    "### Now we are ready to clean the json and structure it into a pandas dataframe."
   ]
  },
  {
   "cell_type": "code",
   "execution_count": 13,
   "metadata": {},
   "outputs": [
    {
     "data": {
      "text/html": [
       "<div>\n",
       "<style scoped>\n",
       "    .dataframe tbody tr th:only-of-type {\n",
       "        vertical-align: middle;\n",
       "    }\n",
       "\n",
       "    .dataframe tbody tr th {\n",
       "        vertical-align: top;\n",
       "    }\n",
       "\n",
       "    .dataframe thead th {\n",
       "        text-align: right;\n",
       "    }\n",
       "</style>\n",
       "<table border=\"1\" class=\"dataframe\">\n",
       "  <thead>\n",
       "    <tr style=\"text-align: right;\">\n",
       "      <th></th>\n",
       "      <th>name</th>\n",
       "      <th>categories</th>\n",
       "      <th>lat</th>\n",
       "      <th>lng</th>\n",
       "    </tr>\n",
       "  </thead>\n",
       "  <tbody>\n",
       "    <tr>\n",
       "      <th>0</th>\n",
       "      <td>Menauer Alm</td>\n",
       "      <td>Trail</td>\n",
       "      <td>47.691087</td>\n",
       "      <td>14.469630</td>\n",
       "    </tr>\n",
       "    <tr>\n",
       "      <th>1</th>\n",
       "      <td>Schwarzkogel</td>\n",
       "      <td>Ski Area</td>\n",
       "      <td>47.699061</td>\n",
       "      <td>14.482833</td>\n",
       "    </tr>\n",
       "    <tr>\n",
       "      <th>2</th>\n",
       "      <td>Großer Mitterberg</td>\n",
       "      <td>Mountain</td>\n",
       "      <td>47.686908</td>\n",
       "      <td>14.452157</td>\n",
       "    </tr>\n",
       "    <tr>\n",
       "      <th>3</th>\n",
       "      <td>Zicker-Reith</td>\n",
       "      <td>Food</td>\n",
       "      <td>47.704011</td>\n",
       "      <td>14.457584</td>\n",
       "    </tr>\n",
       "  </tbody>\n",
       "</table>\n",
       "</div>"
      ],
      "text/plain": [
       "                name categories        lat        lng\n",
       "0        Menauer Alm      Trail  47.691087  14.469630\n",
       "1       Schwarzkogel   Ski Area  47.699061  14.482833\n",
       "2  Großer Mitterberg   Mountain  47.686908  14.452157\n",
       "3       Zicker-Reith       Food  47.704011  14.457584"
      ]
     },
     "execution_count": 13,
     "metadata": {},
     "output_type": "execute_result"
    }
   ],
   "source": [
    "venues = results['response']['groups'][0]['items']\n",
    "\n",
    "nearby_venues = json_normalize(venues) # flatten JSON\n",
    "\n",
    "# filter columns\n",
    "filtered_columns = ['venue.name', 'venue.categories', 'venue.location.lat', 'venue.location.lng']\n",
    "nearby_venues =nearby_venues.loc[:, filtered_columns]\n",
    "\n",
    "# filter the category for each row\n",
    "nearby_venues['venue.categories'] = nearby_venues.apply(get_category_type, axis=1)\n",
    "\n",
    "# clean columns\n",
    "nearby_venues.columns = [col.split(\".\")[-1] for col in nearby_venues.columns]\n",
    "\n",
    "nearby_venues.head()"
   ]
  },
  {
   "cell_type": "markdown",
   "metadata": {},
   "source": [
    "### And how many venues were returned by Foursquare?\n"
   ]
  },
  {
   "cell_type": "code",
   "execution_count": 14,
   "metadata": {},
   "outputs": [
    {
     "name": "stdout",
     "output_type": "stream",
     "text": [
      "4 venues were returned by Foursquare.\n"
     ]
    }
   ],
   "source": [
    "print('{} venues were returned by Foursquare.'.format(nearby_venues.shape[0]))"
   ]
  },
  {
   "cell_type": "markdown",
   "metadata": {},
   "source": [
    "### Let's create a function to repeat the same process in all cities of Austria"
   ]
  },
  {
   "cell_type": "code",
   "execution_count": 15,
   "metadata": {},
   "outputs": [],
   "source": [
    "def getNearbyVenues(names, latitudes, longitudes, radius=1000):\n",
    "    \n",
    "    venues_list=[]\n",
    "    for name, lat, lng in zip(names, latitudes, longitudes):\n",
    "        print(name)\n",
    "        \n",
    "        # create the API request URL\n",
    "        url = 'https://api.foursquare.com/v2/venues/explore?&client_id={}&client_secret={}&v={}&ll={},{}&radius={}&limit={}'.format(\n",
    "            CLIENT_ID, \n",
    "            CLIENT_SECRET, \n",
    "            VERSION, \n",
    "            lat, \n",
    "            lng, \n",
    "            radius, \n",
    "            LIMIT)\n",
    "        \n",
    "        # make the GET request\n",
    "        results = requests.get(url).json()[\"response\"]['groups'][0]['items']\n",
    "        \n",
    "        # return only relevant information for each nearby venue\n",
    "        venues_list.append([(\n",
    "            name, \n",
    "            lat, \n",
    "            lng, \n",
    "            v['venue']['name'], \n",
    "            v['venue']['location']['lat'], \n",
    "            v['venue']['location']['lng'],  \n",
    "            v['venue']['categories'][0]['name']) for v in results])\n",
    "        \n",
    "        nearby_venues = pd.DataFrame([item for venue_list in venues_list for item in venue_list])\n",
    "    nearby_venues.columns = ['Neighborhood', \n",
    "                  'Neighborhood Latitude', \n",
    "                  'Neighborhood Longitude', \n",
    "                  'Venue', \n",
    "                  'Venue Latitude', \n",
    "                  'Venue Longitude', \n",
    "                  'Venue Category']\n",
    "    \n",
    "    return(nearby_venues)"
   ]
  },
  {
   "cell_type": "markdown",
   "metadata": {},
   "source": [
    "### Create a new dataframe called Austria_venues"
   ]
  },
  {
   "cell_type": "code",
   "execution_count": 16,
   "metadata": {},
   "outputs": [
    {
     "name": "stdout",
     "output_type": "stream",
     "text": [
      "Vienna\n",
      "Linz\n",
      "Graz\n",
      "Salzburg\n",
      "Innsbruck\n",
      "Klagenfurt\n",
      "Wiener Neustadt\n",
      "Bregenz\n",
      "Eisenstadt\n",
      "Dornbirn\n",
      "Deutschlandsberg\n",
      "Hartberg\n",
      "Vöcklabruck\n",
      "Judenburg\n",
      "Villach\n",
      "Sankt Johann im Pongau\n",
      "Voitsberg\n",
      "Zwettl\n",
      "Scheibbs\n",
      "Kirchdorf\n",
      "Gmunden\n",
      "Hollabrunn\n",
      "Wels\n",
      "Gmünd\n",
      "Völkermarkt\n",
      "Kitzbühel\n",
      "Freistadt\n",
      "Tulln\n",
      "Schwaz\n",
      "Tamsweg\n",
      "Mistelbach\n",
      "Zell am See\n",
      "Sankt Pölten\n",
      "Horn\n",
      "Leibnitz\n",
      "Perg\n",
      "Amstetten\n",
      "Korneuburg\n",
      "Rohrbach\n",
      "Lienz\n",
      "Hermagor\n",
      "Reutte\n",
      "Bruck an der Mur\n",
      "Bruck an der Leitha\n",
      "Imst\n",
      "Leoben\n",
      "Sankt Veit an der Glan\n",
      "Gänserndorf\n",
      "Melk\n",
      "Hallein\n",
      "Mattersburg\n",
      "Feldkirchen\n",
      "Murau\n",
      "Feldbach\n",
      "Bludenz\n",
      "Krems an der Donau\n",
      "Mödling\n",
      "Klosterneuburg\n",
      "Steyr\n",
      "Neusiedl am See\n",
      "Neunkirchen\n",
      "Wolfsberg\n",
      "Landeck\n",
      "Eferding\n",
      "Weiz\n",
      "Spittal an der Drau\n",
      "Waidhofen an der Thaya\n",
      "Rust\n",
      "Baden\n",
      "Liezen\n",
      "Oberwart\n",
      "Ried im Innkreis\n",
      "Oberpullendorf\n",
      "Güssing\n",
      "Grieskirchen\n",
      "Schärding\n",
      "Lilienfeld\n",
      "Jennersdorf\n",
      "Kufstein\n",
      "Braunau am Inn\n"
     ]
    }
   ],
   "source": [
    "Austria_venues = getNearbyVenues(names=df_at['City'],\n",
    "                                latitudes=df_at['Latitude'],\n",
    "                                longitudes=df_at['Longitude'])"
   ]
  },
  {
   "cell_type": "markdown",
   "metadata": {},
   "source": [
    "### Let's check the size of the resulting dataframe"
   ]
  },
  {
   "cell_type": "code",
   "execution_count": 17,
   "metadata": {},
   "outputs": [
    {
     "data": {
      "text/plain": [
       "(1196, 7)"
      ]
     },
     "execution_count": 17,
     "metadata": {},
     "output_type": "execute_result"
    }
   ],
   "source": [
    "Austria_venues.shape\n"
   ]
  },
  {
   "cell_type": "code",
   "execution_count": 18,
   "metadata": {
    "scrolled": true
   },
   "outputs": [
    {
     "data": {
      "text/html": [
       "<div>\n",
       "<style scoped>\n",
       "    .dataframe tbody tr th:only-of-type {\n",
       "        vertical-align: middle;\n",
       "    }\n",
       "\n",
       "    .dataframe tbody tr th {\n",
       "        vertical-align: top;\n",
       "    }\n",
       "\n",
       "    .dataframe thead th {\n",
       "        text-align: right;\n",
       "    }\n",
       "</style>\n",
       "<table border=\"1\" class=\"dataframe\">\n",
       "  <thead>\n",
       "    <tr style=\"text-align: right;\">\n",
       "      <th></th>\n",
       "      <th>Neighborhood</th>\n",
       "      <th>Neighborhood Latitude</th>\n",
       "      <th>Neighborhood Longitude</th>\n",
       "      <th>Venue</th>\n",
       "      <th>Venue Latitude</th>\n",
       "      <th>Venue Longitude</th>\n",
       "      <th>Venue Category</th>\n",
       "    </tr>\n",
       "  </thead>\n",
       "  <tbody>\n",
       "    <tr>\n",
       "      <th>0</th>\n",
       "      <td>Vienna</td>\n",
       "      <td>48.2</td>\n",
       "      <td>16.366667</td>\n",
       "      <td>Cha No Ma</td>\n",
       "      <td>48.199046</td>\n",
       "      <td>16.365225</td>\n",
       "      <td>Tea Room</td>\n",
       "    </tr>\n",
       "    <tr>\n",
       "      <th>1</th>\n",
       "      <td>Vienna</td>\n",
       "      <td>48.2</td>\n",
       "      <td>16.366667</td>\n",
       "      <td>Karlsplatz</td>\n",
       "      <td>48.200436</td>\n",
       "      <td>16.368513</td>\n",
       "      <td>Plaza</td>\n",
       "    </tr>\n",
       "    <tr>\n",
       "      <th>2</th>\n",
       "      <td>Vienna</td>\n",
       "      <td>48.2</td>\n",
       "      <td>16.366667</td>\n",
       "      <td>Kojiro - Sushi Bar</td>\n",
       "      <td>48.199067</td>\n",
       "      <td>16.364688</td>\n",
       "      <td>Sushi Restaurant</td>\n",
       "    </tr>\n",
       "    <tr>\n",
       "      <th>3</th>\n",
       "      <td>Vienna</td>\n",
       "      <td>48.2</td>\n",
       "      <td>16.366667</td>\n",
       "      <td>Motel One Wien-Staatsoper</td>\n",
       "      <td>48.201792</td>\n",
       "      <td>16.367823</td>\n",
       "      <td>Hotel</td>\n",
       "    </tr>\n",
       "    <tr>\n",
       "      <th>4</th>\n",
       "      <td>Vienna</td>\n",
       "      <td>48.2</td>\n",
       "      <td>16.366667</td>\n",
       "      <td>Käseland</td>\n",
       "      <td>48.199311</td>\n",
       "      <td>16.364834</td>\n",
       "      <td>Cheese Shop</td>\n",
       "    </tr>\n",
       "  </tbody>\n",
       "</table>\n",
       "</div>"
      ],
      "text/plain": [
       "  Neighborhood  Neighborhood Latitude  Neighborhood Longitude  \\\n",
       "0       Vienna                   48.2               16.366667   \n",
       "1       Vienna                   48.2               16.366667   \n",
       "2       Vienna                   48.2               16.366667   \n",
       "3       Vienna                   48.2               16.366667   \n",
       "4       Vienna                   48.2               16.366667   \n",
       "\n",
       "                       Venue  Venue Latitude  Venue Longitude  \\\n",
       "0                  Cha No Ma       48.199046        16.365225   \n",
       "1                 Karlsplatz       48.200436        16.368513   \n",
       "2         Kojiro - Sushi Bar       48.199067        16.364688   \n",
       "3  Motel One Wien-Staatsoper       48.201792        16.367823   \n",
       "4                   Käseland       48.199311        16.364834   \n",
       "\n",
       "     Venue Category  \n",
       "0          Tea Room  \n",
       "1             Plaza  \n",
       "2  Sushi Restaurant  \n",
       "3             Hotel  \n",
       "4       Cheese Shop  "
      ]
     },
     "execution_count": 18,
     "metadata": {},
     "output_type": "execute_result"
    }
   ],
   "source": [
    "Austria_venues.head()"
   ]
  },
  {
   "cell_type": "markdown",
   "metadata": {},
   "source": [
    "### Analyze Indian Restaurants in Each Neighborhood"
   ]
  },
  {
   "cell_type": "code",
   "execution_count": 19,
   "metadata": {},
   "outputs": [
    {
     "name": "stderr",
     "output_type": "stream",
     "text": [
      "/opt/conda/envs/DSX-Python35/lib/python3.5/site-packages/ipykernel/__main__.py:3: SettingWithCopyWarning: \n",
      "A value is trying to be set on a copy of a slice from a DataFrame\n",
      "\n",
      "See the caveats in the documentation: http://pandas.pydata.org/pandas-docs/stable/indexing.html#indexing-view-versus-copy\n",
      "  app.launch_new_instance()\n"
     ]
    },
    {
     "data": {
      "text/html": [
       "<div>\n",
       "<style scoped>\n",
       "    .dataframe tbody tr th:only-of-type {\n",
       "        vertical-align: middle;\n",
       "    }\n",
       "\n",
       "    .dataframe tbody tr th {\n",
       "        vertical-align: top;\n",
       "    }\n",
       "\n",
       "    .dataframe thead th {\n",
       "        text-align: right;\n",
       "    }\n",
       "</style>\n",
       "<table border=\"1\" class=\"dataframe\">\n",
       "  <thead>\n",
       "    <tr style=\"text-align: right;\">\n",
       "      <th></th>\n",
       "      <th>Neighborhood</th>\n",
       "      <th>Neighborhood Latitude</th>\n",
       "      <th>Neighborhood Longitude</th>\n",
       "      <th>Venue</th>\n",
       "      <th>Venue Latitude</th>\n",
       "      <th>Venue Longitude</th>\n",
       "      <th>Venue Category</th>\n",
       "    </tr>\n",
       "  </thead>\n",
       "  <tbody>\n",
       "    <tr>\n",
       "      <th>0</th>\n",
       "      <td>Vienna</td>\n",
       "      <td>48.200000</td>\n",
       "      <td>16.366667</td>\n",
       "      <td>Nam Nam Dabba</td>\n",
       "      <td>48.198587</td>\n",
       "      <td>16.366008</td>\n",
       "      <td>Indian Restaurant</td>\n",
       "    </tr>\n",
       "    <tr>\n",
       "      <th>1</th>\n",
       "      <td>Linz</td>\n",
       "      <td>48.300000</td>\n",
       "      <td>14.300000</td>\n",
       "      <td>Royal Bombay Palace</td>\n",
       "      <td>48.297340</td>\n",
       "      <td>14.296870</td>\n",
       "      <td>Indian Restaurant</td>\n",
       "    </tr>\n",
       "    <tr>\n",
       "      <th>2</th>\n",
       "      <td>Innsbruck</td>\n",
       "      <td>47.266667</td>\n",
       "      <td>11.400000</td>\n",
       "      <td>Sahib Restaurant</td>\n",
       "      <td>47.268826</td>\n",
       "      <td>11.398740</td>\n",
       "      <td>Indian Restaurant</td>\n",
       "    </tr>\n",
       "    <tr>\n",
       "      <th>3</th>\n",
       "      <td>Sankt Pölten</td>\n",
       "      <td>48.200000</td>\n",
       "      <td>15.633333</td>\n",
       "      <td>Rajput</td>\n",
       "      <td>48.204558</td>\n",
       "      <td>15.627709</td>\n",
       "      <td>Indian Restaurant</td>\n",
       "    </tr>\n",
       "  </tbody>\n",
       "</table>\n",
       "</div>"
      ],
      "text/plain": [
       "   Neighborhood  Neighborhood Latitude  Neighborhood Longitude  \\\n",
       "0        Vienna              48.200000               16.366667   \n",
       "1          Linz              48.300000               14.300000   \n",
       "2     Innsbruck              47.266667               11.400000   \n",
       "3  Sankt Pölten              48.200000               15.633333   \n",
       "\n",
       "                 Venue  Venue Latitude  Venue Longitude     Venue Category  \n",
       "0        Nam Nam Dabba       48.198587        16.366008  Indian Restaurant  \n",
       "1  Royal Bombay Palace       48.297340        14.296870  Indian Restaurant  \n",
       "2     Sahib Restaurant       47.268826        11.398740  Indian Restaurant  \n",
       "3               Rajput       48.204558        15.627709  Indian Restaurant  "
      ]
     },
     "execution_count": 19,
     "metadata": {},
     "output_type": "execute_result"
    }
   ],
   "source": [
    "df_rest = Austria_venues[Austria_venues['Venue Category'].str.contains('Indian')]\n",
    "df_rest.reset_index(inplace=True)\n",
    "df_rest.drop('index', axis=1, inplace=True)\n",
    "df_rest"
   ]
  },
  {
   "cell_type": "code",
   "execution_count": 20,
   "metadata": {},
   "outputs": [
    {
     "data": {
      "text/html": [
       "<div style=\"width:100%;\"><div style=\"position:relative;width:100%;height:0;padding-bottom:60%;\"><iframe src=\"data:text/html;charset=utf-8;base64,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\" style=\"position:absolute;width:100%;height:100%;left:0;top:0;border:none !important;\" allowfullscreen webkitallowfullscreen mozallowfullscreen></iframe></div></div>"
      ],
      "text/plain": [
       "<folium.folium.Map at 0x7ff1fc4d5320>"
      ]
     },
     "execution_count": 20,
     "metadata": {},
     "output_type": "execute_result"
    }
   ],
   "source": [
    "map_rest = folium.Map(location=[latitude, longitude], zoom_start=10)\n",
    "\n",
    "# add markers to map\n",
    "for lat, lng, country, City in zip(df_rest['Venue Latitude'], df_rest['Venue Longitude'], df_rest['Neighborhood'], df_rest['Venue']):\n",
    "    label = '{}, {}'.format(country, City)\n",
    "    label = folium.Popup(label, parse_html=True)\n",
    "    folium.CircleMarker(\n",
    "        [lat, lng],\n",
    "        radius=5,\n",
    "        popup=label,\n",
    "        color='blue',\n",
    "        fill=True,\n",
    "        fill_color='#3186cc',\n",
    "        fill_opacity=0.7,\n",
    "        parse_html=False).add_to(map_rest) \n",
    "    \n",
    "map_rest\n"
   ]
  },
  {
   "cell_type": "markdown",
   "metadata": {},
   "source": [
    "### Lets check the size of out dataframe."
   ]
  },
  {
   "cell_type": "code",
   "execution_count": 21,
   "metadata": {},
   "outputs": [
    {
     "data": {
      "text/plain": [
       "(4, 7)"
      ]
     },
     "execution_count": 21,
     "metadata": {},
     "output_type": "execute_result"
    }
   ],
   "source": [
    "df_rest.shape"
   ]
  },
  {
   "cell_type": "markdown",
   "metadata": {},
   "source": [
    "### Just to make sure the total Restaurants per neighborhood we will use GroupBy function."
   ]
  },
  {
   "cell_type": "code",
   "execution_count": 22,
   "metadata": {},
   "outputs": [
    {
     "name": "stdout",
     "output_type": "stream",
     "text": [
      "Neighborhood\n",
      "Innsbruck       1\n",
      "Linz            1\n",
      "Sankt Pölten    1\n",
      "Vienna          1\n",
      "Name: Venue, dtype: int64\n"
     ]
    }
   ],
   "source": [
    "print(df_rest.groupby('Neighborhood').count()['Venue'])"
   ]
  },
  {
   "cell_type": "markdown",
   "metadata": {},
   "source": [
    "## Now, we want to know the ratings of all Indian Restaurants just to make sure that, which Indian restaurant our client should visit to explore the indian food in Austria and make their next Food Blog.  "
   ]
  },
  {
   "cell_type": "markdown",
   "metadata": {},
   "source": [
    "### Get the venue's overall rating - Nam Nam Dabba (VIENNA)"
   ]
  },
  {
   "cell_type": "code",
   "execution_count": 23,
   "metadata": {},
   "outputs": [
    {
     "name": "stdout",
     "output_type": "stream",
     "text": [
      "8.0\n"
     ]
    }
   ],
   "source": [
    "venue_id = '4c40af3cff711b8d23c51005' # ID of Nam Nam Dabba Restaurant\n",
    "url = 'https://api.foursquare.com/v2/venues/{}?client_id={}&client_secret={}&v={}'.format(venue_id, CLIENT_ID, CLIENT_SECRET, VERSION)\n",
    "\n",
    "result = requests.get(url).json()\n",
    "try:\n",
    "    print(result['response']['venue']['rating'])\n",
    "except:\n",
    "    print('This venue has not been rated yet.')"
   ]
  },
  {
   "cell_type": "markdown",
   "metadata": {},
   "source": [
    "### Get the venue's overall rating - Royal Bombay Palace (LINZ)\n"
   ]
  },
  {
   "cell_type": "code",
   "execution_count": 24,
   "metadata": {},
   "outputs": [
    {
     "name": "stdout",
     "output_type": "stream",
     "text": [
      "8.1\n"
     ]
    }
   ],
   "source": [
    "venue_id = '4b55da77f964a520fdf227e3' # ID of Royal Bombay Palace Restaurant\n",
    "url = 'https://api.foursquare.com/v2/venues/{}?client_id={}&client_secret={}&v={}'.format(venue_id, CLIENT_ID, CLIENT_SECRET, VERSION)\n",
    "\n",
    "result = requests.get(url).json()\n",
    "try:\n",
    "    print(result['response']['venue']['rating'])\n",
    "except:\n",
    "    print('This venue has not been rated yet.')"
   ]
  },
  {
   "cell_type": "markdown",
   "metadata": {},
   "source": [
    "### Get the venue's overall rating - Sahib Restaurant (INNSBRUCK)\n"
   ]
  },
  {
   "cell_type": "code",
   "execution_count": 25,
   "metadata": {},
   "outputs": [
    {
     "name": "stdout",
     "output_type": "stream",
     "text": [
      "7.7\n"
     ]
    }
   ],
   "source": [
    "venue_id = '4d446bcb4e5d37047b53eb93' # ID of Sahib Restaurant\n",
    "url = 'https://api.foursquare.com/v2/venues/{}?client_id={}&client_secret={}&v={}'.format(venue_id, CLIENT_ID, CLIENT_SECRET, VERSION)\n",
    "\n",
    "result = requests.get(url).json()\n",
    "try:\n",
    "    print(result['response']['venue']['rating'])\n",
    "except:\n",
    "    print('This venue has not been rated yet.')"
   ]
  },
  {
   "cell_type": "markdown",
   "metadata": {},
   "source": [
    "### Get the venue's overall rating - Rajput (SANKT POLTEN)"
   ]
  },
  {
   "cell_type": "code",
   "execution_count": 26,
   "metadata": {},
   "outputs": [
    {
     "name": "stdout",
     "output_type": "stream",
     "text": [
      "7.8\n"
     ]
    }
   ],
   "source": [
    "venue_id = '4c2dd6a54e132d7fb9029ddf' # ID of Rajput Restaurant\n",
    "url = 'https://api.foursquare.com/v2/venues/{}?client_id={}&client_secret={}&v={}'.format(venue_id, CLIENT_ID, CLIENT_SECRET, VERSION)\n",
    "\n",
    "result = requests.get(url).json()\n",
    "try:\n",
    "    print(result['response']['venue']['rating'])\n",
    "except:\n",
    "    print('This venue has not been rated yet.')"
   ]
  },
  {
   "cell_type": "markdown",
   "metadata": {},
   "source": [
    "### Now we create a new data frame with Restaurant names and ratings"
   ]
  },
  {
   "cell_type": "code",
   "execution_count": 30,
   "metadata": {},
   "outputs": [
    {
     "name": "stderr",
     "output_type": "stream",
     "text": [
      "/opt/conda/envs/DSX-Python35/lib/python3.5/site-packages/ipykernel/__main__.py:1: SettingWithCopyWarning: \n",
      "A value is trying to be set on a copy of a slice from a DataFrame.\n",
      "Try using .loc[row_indexer,col_indexer] = value instead\n",
      "\n",
      "See the caveats in the documentation: http://pandas.pydata.org/pandas-docs/stable/indexing.html#indexing-view-versus-copy\n",
      "  if __name__ == '__main__':\n"
     ]
    },
    {
     "data": {
      "text/html": [
       "<div>\n",
       "<style scoped>\n",
       "    .dataframe tbody tr th:only-of-type {\n",
       "        vertical-align: middle;\n",
       "    }\n",
       "\n",
       "    .dataframe tbody tr th {\n",
       "        vertical-align: top;\n",
       "    }\n",
       "\n",
       "    .dataframe thead th {\n",
       "        text-align: right;\n",
       "    }\n",
       "</style>\n",
       "<table border=\"1\" class=\"dataframe\">\n",
       "  <thead>\n",
       "    <tr style=\"text-align: right;\">\n",
       "      <th></th>\n",
       "      <th>Neighborhood</th>\n",
       "      <th>Venue</th>\n",
       "      <th>Ratings</th>\n",
       "    </tr>\n",
       "  </thead>\n",
       "  <tbody>\n",
       "    <tr>\n",
       "      <th>0</th>\n",
       "      <td>Vienna</td>\n",
       "      <td>Nam Nam Dabba</td>\n",
       "      <td>8.0</td>\n",
       "    </tr>\n",
       "    <tr>\n",
       "      <th>1</th>\n",
       "      <td>Linz</td>\n",
       "      <td>Royal Bombay Palace</td>\n",
       "      <td>8.1</td>\n",
       "    </tr>\n",
       "    <tr>\n",
       "      <th>2</th>\n",
       "      <td>Innsbruck</td>\n",
       "      <td>Sahib Restaurant</td>\n",
       "      <td>7.7</td>\n",
       "    </tr>\n",
       "    <tr>\n",
       "      <th>3</th>\n",
       "      <td>Sankt Pölten</td>\n",
       "      <td>Rajput</td>\n",
       "      <td>7.8</td>\n",
       "    </tr>\n",
       "  </tbody>\n",
       "</table>\n",
       "</div>"
      ],
      "text/plain": [
       "   Neighborhood                Venue  Ratings\n",
       "0        Vienna        Nam Nam Dabba      8.0\n",
       "1          Linz  Royal Bombay Palace      8.1\n",
       "2     Innsbruck     Sahib Restaurant      7.7\n",
       "3  Sankt Pölten               Rajput      7.8"
      ]
     },
     "execution_count": 30,
     "metadata": {},
     "output_type": "execute_result"
    }
   ],
   "source": [
    "df_rest['Ratings'] = [8.0, 8.1, 7.7, 7.8]\n",
    "df_rest = df_rest.drop([\"Neighborhood Latitude\", \"Neighborhood Longitude\", \"Venue Latitude\", \"Venue Longitude\", \"Venue Category\"], axis=1) \n",
    "df_rest"
   ]
  },
  {
   "cell_type": "markdown",
   "metadata": {},
   "source": [
    "## So, from above research about the Indian Restaurants in AUSTRIA, we recommend our client to visit \"Royal Bombay Palace\" in LINZ for making their Food Blogs. As, they both have best ratings(8.1) in compare to other Indian Restaurants in AUSTRIA."
   ]
  },
  {
   "cell_type": "code",
   "execution_count": null,
   "metadata": {},
   "outputs": [],
   "source": [
    "\n",
    "\n",
    "\n",
    "\n",
    "\n",
    "\n"
   ]
  },
  {
   "cell_type": "code",
   "execution_count": null,
   "metadata": {},
   "outputs": [],
   "source": []
  }
 ],
 "metadata": {
  "kernelspec": {
   "display_name": "Python 3.5",
   "language": "python",
   "name": "python3"
  },
  "language_info": {
   "codemirror_mode": {
    "name": "ipython",
    "version": 3
   },
   "file_extension": ".py",
   "mimetype": "text/x-python",
   "name": "python",
   "nbconvert_exporter": "python",
   "pygments_lexer": "ipython3",
   "version": "3.5.5"
  }
 },
 "nbformat": 4,
 "nbformat_minor": 1
}
